{
 "cells": [
  {
   "cell_type": "code",
   "execution_count": 1,
   "metadata": {},
   "outputs": [],
   "source": [
    "from functools import reduce\n",
    "import math\n",
    "import random"
   ]
  },
  {
   "cell_type": "code",
   "execution_count": 2,
   "metadata": {},
   "outputs": [],
   "source": [
    "with open(\"Instances/p2\",'r') as f:\n",
    "    data = f.read().split()\n",
    "    for x in range(len(data)):\n",
    "        if len(data[x])>10:\n",
    "            data = data[:x]\n",
    "            break\n",
    "    def map_f(x):\n",
    "        if x[-1]=='.':\n",
    "            return int(x[:-1])\n",
    "        else:\n",
    "            return int(x)\n",
    "    data = list(map(map_f,data))"
   ]
  },
  {
   "cell_type": "code",
   "execution_count": 3,
   "metadata": {},
   "outputs": [],
   "source": [
    "not_use_pointer = 0\n",
    "factorys_number = data[not_use_pointer]\n",
    "factorys = []\n",
    "not_use_pointer += 1\n",
    "customers_number = data[not_use_pointer]\n",
    "customers = []\n",
    "not_use_pointer += 1\n",
    "T = 1000"
   ]
  },
  {
   "cell_type": "code",
   "execution_count": 4,
   "metadata": {},
   "outputs": [],
   "source": [
    "class Factoray:\n",
    "    def __init__(self,capacity,open_cost,number):\n",
    "        self.capacity = capacity\n",
    "        self.open_cost = open_cost\n",
    "        self.current_load = 0\n",
    "        self.number = number"
   ]
  },
  {
   "cell_type": "code",
   "execution_count": 5,
   "metadata": {},
   "outputs": [],
   "source": [
    "class Customer:\n",
    "    def __init__(self,load,distance_list,number):\n",
    "        self.load = load\n",
    "        self.distance_list = distance_list\n",
    "        self.assigned_factory = None\n",
    "    def assign(self,_factory):\n",
    "        if _factory.capacity - _factory.current_load < self.load:\n",
    "            return False\n",
    "        else:\n",
    "            _factory.current_load+=self.load\n",
    "            self.assigned_factory = _factory.number\n",
    "            return True\n",
    "    def unassign(self):\n",
    "        if self.assigned_factory != None:\n",
    "            factorys[self.assigned_factory].current_load -= self.load\n",
    "            self.assigned_factory = None\n",
    "            return True\n",
    "        return False"
   ]
  },
  {
   "cell_type": "code",
   "execution_count": 6,
   "metadata": {},
   "outputs": [],
   "source": [
    "def init():\n",
    "    global not_use_pointer\n",
    "    for x in range(factorys_number):\n",
    "        #print(not_use_pointer)\n",
    "        factorys.append(Factoray(data[not_use_pointer],data[not_use_pointer+1],x))\n",
    "        not_use_pointer += 2\n",
    "    for x in range(customers_number):\n",
    "        customers.append(Customer(data[not_use_pointer],[],x))\n",
    "        not_use_pointer += 1\n",
    "    for x in range(customers_number):\n",
    "        for y in range(factorys_number):\n",
    "            customers[x].distance_list.append(data[not_use_pointer])\n",
    "            not_use_pointer+=1\n",
    "            #print(not_use_pointer)"
   ]
  },
  {
   "cell_type": "code",
   "execution_count": 7,
   "metadata": {},
   "outputs": [],
   "source": [
    "def judge():\n",
    "    score = 0\n",
    "    for factory in factorys:\n",
    "        if factory.current_load != 0:\n",
    "            score+=factory.open_cost\n",
    "    for customer in customers:\n",
    "        score+=customer.distance_list[customer.assigned_factory]\n",
    "    return score"
   ]
  },
  {
   "cell_type": "code",
   "execution_count": 8,
   "metadata": {},
   "outputs": [],
   "source": [
    "def find_n_least_big_index(arr,n):\n",
    "    current_big = -1\n",
    "    current_index_list = []\n",
    "    for x in range(n):\n",
    "        inner_big = 1000000\n",
    "        inner_index = -1\n",
    "        for y in range(len(arr)):\n",
    "            if y not in current_index_list:\n",
    "                if arr[y] < inner_big:\n",
    "                    inner_big = arr[y]\n",
    "                    inner_index = y\n",
    "        current_index_list.append(inner_index)\n",
    "        if x == n-1:\n",
    "            return inner_index"
   ]
  },
  {
   "cell_type": "code",
   "execution_count": 9,
   "metadata": {},
   "outputs": [],
   "source": [
    "def gridy():\n",
    "    global customers\n",
    "    for customer in customers:\n",
    "        for x in range(len(customer.distance_list)):\n",
    "            target_index = find_n_least_big_index(customer.distance_list,x+1)\n",
    "            if factorys[target_index].capacity - factorys[target_index].current_load < customer.load:\n",
    "                continue\n",
    "            else:\n",
    "                customer.assign(factorys[target_index])\n",
    "                break"
   ]
  },
  {
   "cell_type": "code",
   "execution_count": 10,
   "metadata": {},
   "outputs": [],
   "source": [
    "init()"
   ]
  },
  {
   "cell_type": "code",
   "execution_count": 11,
   "metadata": {},
   "outputs": [],
   "source": [
    "gridy()"
   ]
  },
  {
   "cell_type": "code",
   "execution_count": 12,
   "metadata": {},
   "outputs": [
    {
     "data": {
      "text/plain": [
       "[5,\n",
       " 7,\n",
       " 8,\n",
       " 2,\n",
       " 9,\n",
       " 9,\n",
       " 5,\n",
       " 6,\n",
       " 3,\n",
       " 2,\n",
       " 6,\n",
       " 3,\n",
       " 4,\n",
       " 0,\n",
       " 6,\n",
       " 4,\n",
       " 5,\n",
       " 0,\n",
       " 3,\n",
       " 9,\n",
       " 7,\n",
       " 6,\n",
       " 3,\n",
       " 5,\n",
       " 6,\n",
       " 9,\n",
       " 5,\n",
       " 7,\n",
       " 0,\n",
       " 3,\n",
       " 3,\n",
       " 8,\n",
       " 2,\n",
       " 1,\n",
       " 3,\n",
       " 7,\n",
       " 9,\n",
       " 3,\n",
       " 6,\n",
       " 4,\n",
       " 5,\n",
       " 7,\n",
       " 8,\n",
       " 8,\n",
       " 1,\n",
       " 7,\n",
       " 0,\n",
       " 2,\n",
       " 4,\n",
       " 6]"
      ]
     },
     "execution_count": 12,
     "metadata": {},
     "output_type": "execute_result"
    }
   ],
   "source": [
    "[customers[x].assigned_factory for x in range(len(customers))]"
   ]
  },
  {
   "cell_type": "code",
   "execution_count": 13,
   "metadata": {},
   "outputs": [
    {
     "data": {
      "text/plain": [
       "9041"
      ]
     },
     "execution_count": 13,
     "metadata": {},
     "output_type": "execute_result"
    }
   ],
   "source": [
    "judge()"
   ]
  },
  {
   "cell_type": "code",
   "execution_count": 14,
   "metadata": {},
   "outputs": [],
   "source": [
    "def possibility(energy):\n",
    "    global T\n",
    "    return 1/(1+math.e**(-energy/T))"
   ]
  },
  {
   "cell_type": "code",
   "execution_count": 13,
   "metadata": {},
   "outputs": [],
   "source": [
    "def sa(times):\n",
    "    for x in range(times):\n",
    "        change_customer_index = random.randint(0,len(customers)-1)\n",
    "        #temp = judge()\n",
    "        while True:\n",
    "            change_to_factory_index = random.randint(0,len(factorys)-1)\n",
    "            if factorys[change_to_factory_index].capacity - factorys[change_to_factory_index].current_load >= customers[change_customer_index].load:\n",
    "                #compare which one better\n",
    "                energy = 0\n",
    "                if factorys[customers[change_customer_index].assigned_factory].current_load == customers[change_customer_index].load:\n",
    "                    energy -= customers[change_customer_index].load\n",
    "                energy += customers[change_customer_index].distance_list[change_to_factory_index]\n",
    "                energy -= customers[change_customer_index].distance_list[customers[change_customer_index].assigned_factory]\n",
    "                if energy<0 or possibility(energy) > random.random():\n",
    "                    customers[change_customer_index].unassign()\n",
    "                    customers[change_customer_index].assign(factorys[change_to_factory_index])\n",
    "                break\n",
    "    print(judge())"
   ]
  },
  {
   "cell_type": "code",
   "execution_count": 14,
   "metadata": {},
   "outputs": [
    {
     "ename": "NameError",
     "evalue": "name 'possibility' is not defined",
     "output_type": "error",
     "traceback": [
      "\u001b[1;31m---------------------------------------------------------------------------\u001b[0m",
      "\u001b[1;31mNameError\u001b[0m                                 Traceback (most recent call last)",
      "\u001b[1;32m<ipython-input-14-6a6a5e057d74>\u001b[0m in \u001b[0;36m<module>\u001b[1;34m()\u001b[0m\n\u001b[1;32m----> 1\u001b[1;33m \u001b[0msa\u001b[0m\u001b[1;33m(\u001b[0m\u001b[1;36m1000\u001b[0m\u001b[1;33m)\u001b[0m\u001b[1;33m\u001b[0m\u001b[0m\n\u001b[0m",
      "\u001b[1;32m<ipython-input-13-e4a8953ff3ff>\u001b[0m in \u001b[0;36msa\u001b[1;34m(times)\u001b[0m\n\u001b[0;32m     12\u001b[0m                 \u001b[0menergy\u001b[0m \u001b[1;33m+=\u001b[0m \u001b[0mcustomers\u001b[0m\u001b[1;33m[\u001b[0m\u001b[0mchange_customer_index\u001b[0m\u001b[1;33m]\u001b[0m\u001b[1;33m.\u001b[0m\u001b[0mdistance_list\u001b[0m\u001b[1;33m[\u001b[0m\u001b[0mchange_to_factory_index\u001b[0m\u001b[1;33m]\u001b[0m\u001b[1;33m\u001b[0m\u001b[0m\n\u001b[0;32m     13\u001b[0m                 \u001b[0menergy\u001b[0m \u001b[1;33m-=\u001b[0m \u001b[0mcustomers\u001b[0m\u001b[1;33m[\u001b[0m\u001b[0mchange_customer_index\u001b[0m\u001b[1;33m]\u001b[0m\u001b[1;33m.\u001b[0m\u001b[0mdistance_list\u001b[0m\u001b[1;33m[\u001b[0m\u001b[0mcustomers\u001b[0m\u001b[1;33m[\u001b[0m\u001b[0mchange_customer_index\u001b[0m\u001b[1;33m]\u001b[0m\u001b[1;33m.\u001b[0m\u001b[0massigned_factory\u001b[0m\u001b[1;33m]\u001b[0m\u001b[1;33m\u001b[0m\u001b[0m\n\u001b[1;32m---> 14\u001b[1;33m                 \u001b[1;32mif\u001b[0m \u001b[0menergy\u001b[0m\u001b[1;33m<\u001b[0m\u001b[1;36m0\u001b[0m \u001b[1;32mor\u001b[0m \u001b[0mpossibility\u001b[0m\u001b[1;33m(\u001b[0m\u001b[0menergy\u001b[0m\u001b[1;33m)\u001b[0m \u001b[1;33m>\u001b[0m \u001b[0mrandom\u001b[0m\u001b[1;33m.\u001b[0m\u001b[0mrandom\u001b[0m\u001b[1;33m(\u001b[0m\u001b[1;33m)\u001b[0m\u001b[1;33m:\u001b[0m\u001b[1;33m\u001b[0m\u001b[0m\n\u001b[0m\u001b[0;32m     15\u001b[0m                     \u001b[0mcustomers\u001b[0m\u001b[1;33m[\u001b[0m\u001b[0mchange_customer_index\u001b[0m\u001b[1;33m]\u001b[0m\u001b[1;33m.\u001b[0m\u001b[0munassign\u001b[0m\u001b[1;33m(\u001b[0m\u001b[1;33m)\u001b[0m\u001b[1;33m\u001b[0m\u001b[0m\n\u001b[0;32m     16\u001b[0m                     \u001b[0mcustomers\u001b[0m\u001b[1;33m[\u001b[0m\u001b[0mchange_customer_index\u001b[0m\u001b[1;33m]\u001b[0m\u001b[1;33m.\u001b[0m\u001b[0massign\u001b[0m\u001b[1;33m(\u001b[0m\u001b[0mfactorys\u001b[0m\u001b[1;33m[\u001b[0m\u001b[0mchange_to_factory_index\u001b[0m\u001b[1;33m]\u001b[0m\u001b[1;33m)\u001b[0m\u001b[1;33m\u001b[0m\u001b[0m\n",
      "\u001b[1;31mNameError\u001b[0m: name 'possibility' is not defined"
     ]
    }
   ],
   "source": [
    "sa(1000)\n"
   ]
  },
  {
   "cell_type": "code",
   "execution_count": 20,
   "metadata": {},
   "outputs": [
    {
     "data": {
      "text/plain": [
       "[5,\n",
       " None,\n",
       " 8,\n",
       " 2,\n",
       " 9,\n",
       " 9,\n",
       " None,\n",
       " 6,\n",
       " 3,\n",
       " 2,\n",
       " 6,\n",
       " None,\n",
       " 4,\n",
       " 0,\n",
       " None,\n",
       " 4,\n",
       " None,\n",
       " 0,\n",
       " 3,\n",
       " 9,\n",
       " 7,\n",
       " 6,\n",
       " None,\n",
       " 5,\n",
       " 6,\n",
       " 9,\n",
       " None,\n",
       " 7,\n",
       " 0,\n",
       " 3,\n",
       " 3,\n",
       " 8,\n",
       " None,\n",
       " 1,\n",
       " 3,\n",
       " 7,\n",
       " 9,\n",
       " 3,\n",
       " 6,\n",
       " 4,\n",
       " 5,\n",
       " 7,\n",
       " 8,\n",
       " 8,\n",
       " None,\n",
       " 7,\n",
       " 0,\n",
       " 2,\n",
       " 4,\n",
       " 6]"
      ]
     },
     "execution_count": 20,
     "metadata": {},
     "output_type": "execute_result"
    }
   ],
   "source": [
    "[customers[x].assigned_factory for x in range(len(customers))]"
   ]
  },
  {
   "cell_type": "code",
   "execution_count": 30,
   "metadata": {},
   "outputs": [
    {
     "data": {
      "text/plain": [
       "1"
      ]
     },
     "execution_count": 30,
     "metadata": {},
     "output_type": "execute_result"
    }
   ],
   "source": [
    "random.randint(0,1)"
   ]
  },
  {
   "cell_type": "code",
   "execution_count": null,
   "metadata": {},
   "outputs": [],
   "source": []
  }
 ],
 "metadata": {
  "kernelspec": {
   "display_name": "Python 3",
   "language": "python",
   "name": "python3"
  },
  "language_info": {
   "codemirror_mode": {
    "name": "ipython",
    "version": 3
   },
   "file_extension": ".py",
   "mimetype": "text/x-python",
   "name": "python",
   "nbconvert_exporter": "python",
   "pygments_lexer": "ipython3",
   "version": "3.7.0"
  }
 },
 "nbformat": 4,
 "nbformat_minor": 2
}
