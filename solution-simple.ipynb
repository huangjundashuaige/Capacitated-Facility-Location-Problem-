{
 "cells": [
  {
   "cell_type": "code",
   "execution_count": null,
   "metadata": {},
   "outputs": [],
   "source": [
    "from functools import reduce\n",
    "import math\n",
    "import random"
   ]
  },
  {
   "cell_type": "code",
   "execution_count": 30,
   "metadata": {},
   "outputs": [],
   "source": [
    "not_use_pointer = 0\n",
    "factorys_number = 0\n",
    "factorys = []\n",
    "customers_number = 0\n",
    "customers = []\n",
    "T = 10000\n",
    "data = None"
   ]
  },
  {
   "cell_type": "code",
   "execution_count": 64,
   "metadata": {},
   "outputs": [],
   "source": [
    "def start(num):\n",
    "    global not_use_pointer\n",
    "    global factorys_number\n",
    "    global factorys\n",
    "    global customers_number\n",
    "    global customers\n",
    "    global T\n",
    "    global data\n",
    "    with open(\"Instances/p\"+str(num),'r') as f:\n",
    "        data = f.read().split()\n",
    "        #print(data)\n",
    "        for x in range(len(data)):\n",
    "            if len(data[x])>10:\n",
    "                data = data[:x]\n",
    "                break\n",
    "        def map_f(x):\n",
    "            if x[-1]=='.':\n",
    "                return int(x[:-1])\n",
    "            else:\n",
    "                return int(x)\n",
    "        data = list(map(map_f,data))\n",
    "    not_use_pointer = 0\n",
    "    factorys_number = data[not_use_pointer]\n",
    "    factorys = []\n",
    "    not_use_pointer += 1\n",
    "    customers_number = data[not_use_pointer]\n",
    "    customers = []\n",
    "    not_use_pointer += 1\n",
    "    T = 10000\n",
    "    init()"
   ]
  },
  {
   "cell_type": "code",
   "execution_count": null,
   "metadata": {},
   "outputs": [],
   "source": []
  },
  {
   "cell_type": "code",
   "execution_count": 10,
   "metadata": {},
   "outputs": [],
   "source": [
    "class Factoray:\n",
    "    def __init__(self,capacity,open_cost,number):\n",
    "        self.capacity = capacity\n",
    "        self.open_cost = open_cost\n",
    "        self.current_load = 0\n",
    "        self.number = number"
   ]
  },
  {
   "cell_type": "code",
   "execution_count": 11,
   "metadata": {},
   "outputs": [],
   "source": [
    "class Customer:\n",
    "    def __init__(self,load,distance_list,number):\n",
    "        self.load = load\n",
    "        self.distance_list = distance_list\n",
    "        self.assigned_factory = None\n",
    "    def assign(self,_factory):\n",
    "        if _factory.capacity - _factory.current_load < self.load:\n",
    "            return False\n",
    "        else:\n",
    "            _factory.current_load+=self.load\n",
    "            self.assigned_factory = _factory.number\n",
    "            return True\n",
    "    def unassign(self):\n",
    "        if self.assigned_factory != None:\n",
    "            factorys[self.assigned_factory].current_load -= self.load\n",
    "            self.assigned_factory = None\n",
    "            return True\n",
    "        return False"
   ]
  },
  {
   "cell_type": "code",
   "execution_count": 59,
   "metadata": {},
   "outputs": [],
   "source": [
    "def init():\n",
    "    global not_use_pointer\n",
    "    global factorys_number\n",
    "    global customers_number\n",
    "    global factorys\n",
    "    global customers\n",
    "    global data\n",
    "    for x in range(factorys_number):\n",
    "        #print(not_use_pointer)\n",
    "        factorys.append(Factoray(data[not_use_pointer],data[not_use_pointer+1],x))\n",
    "        not_use_pointer += 2\n",
    "    for x in range(customers_number):\n",
    "        customers.append(Customer(data[not_use_pointer],[],x))\n",
    "        not_use_pointer += 1\n",
    "    for x in range(customers_number):\n",
    "        for y in range(factorys_number):\n",
    "            customers[x].distance_list.append(data[not_use_pointer])\n",
    "            not_use_pointer+=1\n",
    "    #print(not_use_pointer)\n",
    "            #print(not_use_pointer)"
   ]
  },
  {
   "cell_type": "code",
   "execution_count": 27,
   "metadata": {},
   "outputs": [],
   "source": [
    "def judge():\n",
    "    global factorys\n",
    "    global customers\n",
    "    score = 0\n",
    "    for factory in factorys:\n",
    "        if factory.current_load != 0:\n",
    "            score+=factory.open_cost\n",
    "    for customer in customers:\n",
    "        score+=customer.distance_list[customer.assigned_factory]\n",
    "    return score"
   ]
  },
  {
   "cell_type": "code",
   "execution_count": 14,
   "metadata": {},
   "outputs": [],
   "source": [
    "def find_n_least_big_index(arr,n):\n",
    "    current_big = -1\n",
    "    current_index_list = []\n",
    "    for x in range(n):\n",
    "        inner_big = 1000000\n",
    "        inner_index = -1\n",
    "        for y in range(len(arr)):\n",
    "            if y not in current_index_list:\n",
    "                if arr[y] < inner_big:\n",
    "                    inner_big = arr[y]\n",
    "                    inner_index = y\n",
    "        current_index_list.append(inner_index)\n",
    "        if x == n-1:\n",
    "            return inner_index"
   ]
  },
  {
   "cell_type": "code",
   "execution_count": 68,
   "metadata": {},
   "outputs": [],
   "source": [
    "def gridy():\n",
    "    global customers\n",
    "    #print(customers)\n",
    "    for customer in customers:\n",
    "        for x in range(len(customer.distance_list)):\n",
    "            target_index = find_n_least_big_index(customer.distance_list,x+1)\n",
    "            if factorys[target_index].capacity - factorys[target_index].current_load < customer.load:\n",
    "                continue\n",
    "            else:\n",
    "                customer.assign(factorys[target_index])\n",
    "                break"
   ]
  },
  {
   "cell_type": "code",
   "execution_count": null,
   "metadata": {},
   "outputs": [],
   "source": []
  },
  {
   "cell_type": "code",
   "execution_count": null,
   "metadata": {},
   "outputs": [],
   "source": []
  },
  {
   "cell_type": "code",
   "execution_count": null,
   "metadata": {},
   "outputs": [],
   "source": []
  },
  {
   "cell_type": "code",
   "execution_count": null,
   "metadata": {},
   "outputs": [],
   "source": []
  },
  {
   "cell_type": "code",
   "execution_count": 16,
   "metadata": {},
   "outputs": [],
   "source": [
    "def possibility(energy):\n",
    "    global T\n",
    "    return 1/(1+math.e**(-energy/T))"
   ]
  },
  {
   "cell_type": "code",
   "execution_count": 17,
   "metadata": {},
   "outputs": [],
   "source": [
    "def sa():\n",
    "    global T\n",
    "    while T>10**(-8):\n",
    "        T = T*0.995\n",
    "        for x in range(10):\n",
    "            print(judge())\n",
    "            change_customer_index = random.randint(0,len(customers)-1)\n",
    "            #temp = judge()\n",
    "            while True:\n",
    "                ## move lots of customers at the same time\n",
    "                #move_n_customers()\n",
    "                change_to_factory_index = random.randint(0,len(factorys)-1)\n",
    "                if factorys[change_to_factory_index].capacity - factorys[change_to_factory_index].current_load >= customers[change_customer_index].load:\n",
    "                    #compare which one better\n",
    "                    energy = 0\n",
    "                    if factorys[customers[change_customer_index].assigned_factory].current_load == customers[change_customer_index].load:\n",
    "                        energy -= customers[change_customer_index].load\n",
    "                    energy += customers[change_customer_index].distance_list[change_to_factory_index]\n",
    "                    energy -= customers[change_customer_index].distance_list[customers[change_customer_index].assigned_factory]\n",
    "                    if energy<0 or possibility(energy) > random.random():\n",
    "                        customers[change_customer_index].unassign()\n",
    "                        customers[change_customer_index].assign(factorys[change_to_factory_index])\n",
    "                    break"
   ]
  },
  {
   "cell_type": "code",
   "execution_count": 65,
   "metadata": {},
   "outputs": [
    {
     "name": "stdout",
     "output_type": "stream",
     "text": [
      "['10', '50', '258', '366', '128', '314', '296', '504', '225', '504', '310', '580', '373', '415', '329', '456', '179', '549', '114', '310', '321', '316', '49.', '29.', '23.', '40.', '18.', '17.', '48.', '13.', '15.', '31.', '16.', '31.', '14.', '44.', '23.', '39.', '33.', '45.', '40.', '43.', '38.', '26.', '47.', '34.', '24.', '32.', '28.', '26.', '20.', '13.', '27.', '22.', '14.', '42.', '31.', '37.', '45.', '20.', '38.', '21.', '25.', '13.', '19.', '42.', '10.', '21.', '37.', '27.', '17.', '49.', '260.', '239.', '418.', '557.', '346.', '161.', '288.', '568.', '379.', '392.', '672.', '268.', '122.', '295.', '344.', '143.', '393.', '29.', '656.', '654.', '235.', '329.', '640.', '517.', '329.', '524.', '318.', '516.', '79.', '414.', '458.', '758.', '28.', '167.', '504.', '502.', '475.', '226.', '94.', '422.', '303.', '139.', '362.', '519.', '494.', '88.', '468.', '72.', '370.', '68.', '580.', '484.', '34.', '386.', '180.', '522.', '338.', '636.', '523.', '28.', '646.', '652.', '319.', '423.', '712.', '242.', '486.', '401.', '551.', '812.', '155.', '585.', '482.', '604.', '200.', '284.', '80.', '195.', '426.', '107.', '387.', '516.', '374.', '234.', '495.', '584.', '612.', '239.', '392.', '507.', '145.', '459.', '104.', '286.', '701.', '463.', '467.', '349.', '574.', '344.', '335.', '212.', '369.', '258.', '455.', '348.', '33.', '302.', '181.', '329.', '363.', '504.', '376.', '99.', '502.', '262.', '140.', '310.', '335.', '466.', '249.', '285.', '328.', '263.', '149.', '274.', '345.', '337.', '288.', '284.', '140.', '467.', '338.', '215.', '192.', '243.', '267.', '403.', '244.', '162.', '202.', '270.', '411.', '267.', '364.', '400.', '156.', '356.', '248.', '348.', '415.', '347.', '240.', '474.', '179.', '336.', '281.', '603.', '442.', '219.', '666.', '451.', '117.', '338.', '525.', '59.', '428.', '205.', '611.', '738.', '84.', '451.', '569.', '559.', '229.', '409.', '135.', '367.', '241.', '261.', '414.', '653.', '170.', '94.', '496.', '540.', '541.', '97.', '218.', '456.', '174.', '286.', '180.', '406.', '598.', '258.', '461.', '142.', '466.', '138.', '363.', '276.', '603.', '349.', '694.', '441.', '258.', '73.', '120.', '564.', '218.', '576.', '582.', '204.', '519.', '484.', '108.', '474.', '294.', '237.', '487.', '256.', '354.', '23.', '383.', '432.', '586.', '532.', '432.', '508.', '235.', '524.', '519.', '442.', '138.', '9.', '72.', '631.', '402.', '80.', '441.', '385.', '651.', '424.', '200.', '552.', '141.', '550.', '179.', '543.', '624.', '507.', '173.', '228.', '365.', '598.', '323.', '548.', '489.', '157.', '516.', '746.', '464.', '410.', '779.', '357.', '436.', '501.', '399.', '748.', '268.', '594.', '317.', '529.', '184.', '113.', '255.', '25.', '509.', '88.', '281.', '332.', '492.', '326.', '394.', '510.', '559.', '408.', '466.', '449.', '190.', '522.', '288.', '118.', '671.', '580.', '375.', '480.', '560.', '474.', '677.', '554.', '409.', '90.', '593.', '691.', '374.', '436.', '467.', '387.', '340.', '847.', '643.', '434.', '846.', '523.', '405.', '632.', '200.', '648.', '451.', '610.', '104.', '440.', '311.', '132.', '476.', '237.', '622.', '309.', '222.', '124.', '642.', '479.', '293.', '425.', '498.', '614.', '576.', '401.', '361.', '612.', '519.', '132.', '626.', '720.', '297.', '644.', '551.', '637.', '382.', '354.', '782.', '540.', '850.', '490.', '422.', '186.', '240.', '742.', '340.', '587.', '700.', '345.', '493.', '622.', '274.', '567.', '458.', '61.', '646.', '276.', '533.', '180.', '562.', '625.', '751.', '724.', '518.', '693.', '428.', '702.', '620.', '586.', '328.', '197.', '147.', '770.', '501.', '256.', '614.', '460.', '817.', '617.', '113.', '627.', '334.', '659.', '223.', '652.', '101.', '162.', '566.', '607.', '519.', '14.', '320.', '505.', '316.', '535.', '642.', '155.', '295.', '276.', '180.', '296.', '356.', '148.', '664.', '538.', '378.', '203.', '673.', '453.', '423.', '607.', '477.', '630.', '108.', '539.', '485.', '816.', '200.', '299.', '492.', '443.', '392.', '401.', '142.', '380.', '422.', '83.', '528.', '600.', '368.', '161.', '460.', '244.', '269.', '242.', '567.', '462.', '603.', '240.', '746.', '628.', '357.', '183.', '317.', '569.', '54.', '774.', '701.', '355.', '730.', '585.', '268.', '626.', '96.', '381.', '553.', '467.', '187.', '213.', '412.', '354.', '626.', '474.', '595.', '496.', '213.', '345.', '660.', '537.', '137.', '209.', '289.', '718.', '555.', '245.', '478.', '559.', '686.', '347.', '411.', '713.', '172.', '681.', '392.', '673.']\n"
     ]
    }
   ],
   "source": [
    "start(1)"
   ]
  },
  {
   "cell_type": "code",
   "execution_count": 66,
   "metadata": {},
   "outputs": [
    {
     "name": "stdout",
     "output_type": "stream",
     "text": [
      "[<__main__.Customer object at 0x0000019954376668>, <__main__.Customer object at 0x0000019954376F98>, <__main__.Customer object at 0x0000019954376BE0>, <__main__.Customer object at 0x0000019954376198>, <__main__.Customer object at 0x0000019954376C88>, <__main__.Customer object at 0x0000019954376160>, <__main__.Customer object at 0x0000019954376320>, <__main__.Customer object at 0x0000019954376400>, <__main__.Customer object at 0x00000199543760F0>, <__main__.Customer object at 0x00000199543769E8>, <__main__.Customer object at 0x00000199543769B0>, <__main__.Customer object at 0x0000019954376B38>, <__main__.Customer object at 0x0000019954376710>, <__main__.Customer object at 0x00000199543762B0>, <__main__.Customer object at 0x0000019954376DD8>, <__main__.Customer object at 0x0000019954376828>, <__main__.Customer object at 0x0000019954376748>, <__main__.Customer object at 0x0000019954376208>, <__main__.Customer object at 0x0000019954376AC8>, <__main__.Customer object at 0x0000019954376C18>, <__main__.Customer object at 0x00000199543768D0>, <__main__.Customer object at 0x0000019954376E10>, <__main__.Customer object at 0x0000019954376EF0>, <__main__.Customer object at 0x0000019954376CF8>, <__main__.Customer object at 0x0000019954376CC0>, <__main__.Customer object at 0x0000019954376358>, <__main__.Customer object at 0x0000019954376C50>, <__main__.Customer object at 0x00000199543767B8>, <__main__.Customer object at 0x00000199543767F0>, <__main__.Customer object at 0x0000019954376E48>, <__main__.Customer object at 0x0000019954376438>, <__main__.Customer object at 0x0000019954376978>, <__main__.Customer object at 0x0000019954376D30>, <__main__.Customer object at 0x0000019954376A20>, <__main__.Customer object at 0x0000019954376940>, <__main__.Customer object at 0x0000019954376470>, <__main__.Customer object at 0x0000019954376908>, <__main__.Customer object at 0x0000019954376F60>, <__main__.Customer object at 0x0000019954376EB8>, <__main__.Customer object at 0x00000199543766D8>, <__main__.Customer object at 0x0000019954376898>, <__main__.Customer object at 0x0000019954376A90>, <__main__.Customer object at 0x00000199543762E8>, <__main__.Customer object at 0x000001995437BDD8>, <__main__.Customer object at 0x000001995437B2E8>, <__main__.Customer object at 0x000001995437B438>, <__main__.Customer object at 0x000001995437B748>, <__main__.Customer object at 0x000001995437B898>, <__main__.Customer object at 0x000001995437B208>, <__main__.Customer object at 0x000001995437B8D0>]\n"
     ]
    }
   ],
   "source": [
    "gridy()"
   ]
  },
  {
   "cell_type": "code",
   "execution_count": 67,
   "metadata": {},
   "outputs": [
    {
     "data": {
      "text/plain": [
       "10355"
      ]
     },
     "execution_count": 67,
     "metadata": {},
     "output_type": "execute_result"
    }
   ],
   "source": [
    "judge()"
   ]
  },
  {
   "cell_type": "code",
   "execution_count": null,
   "metadata": {},
   "outputs": [],
   "source": []
  }
 ],
 "metadata": {
  "kernelspec": {
   "display_name": "Python 3",
   "language": "python",
   "name": "python3"
  },
  "language_info": {
   "codemirror_mode": {
    "name": "ipython",
    "version": 3
   },
   "file_extension": ".py",
   "mimetype": "text/x-python",
   "name": "python",
   "nbconvert_exporter": "python",
   "pygments_lexer": "ipython3",
   "version": "3.7.0"
  }
 },
 "nbformat": 4,
 "nbformat_minor": 2
}
