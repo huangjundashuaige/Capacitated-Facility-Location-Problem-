{
 "cells": [
  {
   "cell_type": "code",
   "execution_count": 1,
   "metadata": {},
   "outputs": [],
   "source": [
    "from functools import reduce\n",
    "import math\n",
    "import sys\n",
    "import copy\n",
    "import time\n",
    "import random"
   ]
  },
  {
   "cell_type": "code",
   "execution_count": 2,
   "metadata": {},
   "outputs": [],
   "source": [
    "not_use_pointer = 0\n",
    "factorys_number = 0\n",
    "factorys = []\n",
    "customers_number = 0\n",
    "customers = []\n",
    "T = 1\n",
    "data = None"
   ]
  },
  {
   "cell_type": "code",
   "execution_count": 3,
   "metadata": {},
   "outputs": [],
   "source": [
    "def start(num):\n",
    "    global not_use_pointer\n",
    "    global factorys_number\n",
    "    global factorys\n",
    "    global customers_number\n",
    "    global customers\n",
    "    global T\n",
    "    global data\n",
    "    with open(\"Instances/p\"+str(num),'r') as f:\n",
    "        data = f.read().split()\n",
    "        #print(data)\n",
    "        for x in range(len(data)):\n",
    "            if len(data[x])>10:\n",
    "                data = data[:x]\n",
    "                break\n",
    "        def map_f(x):\n",
    "            if x[-1]=='.':\n",
    "                return int(x[:-1])\n",
    "            else:\n",
    "                return int(x)\n",
    "        data = list(map(map_f,data))\n",
    "    not_use_pointer = 0\n",
    "    factorys_number = data[not_use_pointer]\n",
    "    factorys = []\n",
    "    not_use_pointer += 1\n",
    "    customers_number = data[not_use_pointer]\n",
    "    customers = []\n",
    "    not_use_pointer += 1\n",
    "    T = 10000\n",
    "    init()"
   ]
  },
  {
   "cell_type": "code",
   "execution_count": null,
   "metadata": {},
   "outputs": [],
   "source": []
  },
  {
   "cell_type": "code",
   "execution_count": 4,
   "metadata": {},
   "outputs": [],
   "source": [
    "class Factoray:\n",
    "    def __init__(self,capacity,open_cost,number):\n",
    "        self.capacity = capacity\n",
    "        self.open_cost = open_cost\n",
    "        self.current_load = 0\n",
    "        self.number = number\n",
    "        self.assigned_customers = []\n",
    "    def assign(self,customer):\n",
    "        self.assigned_customers.append(customer.number)\n",
    "        self.current_load += customer.load\n",
    "    def unassign(self,customer):\n",
    "        self.assigned_customers.pop(self.assigned_customers.index(customer.number))\n",
    "        self.current_load -= customer.load\n",
    "    def clean(self):\n",
    "        self.curren_load = 0\n",
    "        self.assigned_customers = []"
   ]
  },
  {
   "cell_type": "code",
   "execution_count": 5,
   "metadata": {},
   "outputs": [],
   "source": [
    "class Customer:\n",
    "    def __init__(self,load,distance_list,number):\n",
    "        self.load = load\n",
    "        self.distance_list = distance_list\n",
    "        self.assigned_factory = None\n",
    "        self.number = number\n",
    "    def assign(self,_factory):\n",
    "        if _factory.capacity - _factory.current_load < self.load:\n",
    "            return False\n",
    "        else:\n",
    "            _factory.assign(self)\n",
    "            self.assigned_factory = _factory.number\n",
    "            return True\n",
    "    def unassign(self):\n",
    "        if self.assigned_factory != None:\n",
    "            factorys[self.assigned_factory].unassign(self)\n",
    "            self.assigned_factory = None\n",
    "            return True\n",
    "        return False"
   ]
  },
  {
   "cell_type": "code",
   "execution_count": 6,
   "metadata": {},
   "outputs": [],
   "source": [
    "def init():\n",
    "    global not_use_pointer\n",
    "    global factorys_number\n",
    "    global customers_number\n",
    "    global factorys\n",
    "    global customers\n",
    "    global data\n",
    "    for x in range(factorys_number):\n",
    "        #print(not_use_pointer)\n",
    "        factorys.append(Factoray(data[not_use_pointer],data[not_use_pointer+1],x))\n",
    "        not_use_pointer += 2\n",
    "    for x in range(customers_number):\n",
    "        customers.append(Customer(data[not_use_pointer],[],x))\n",
    "        not_use_pointer += 1\n",
    "    for x in range(customers_number):\n",
    "        for y in range(factorys_number):\n",
    "            customers[x].distance_list.append(data[not_use_pointer])\n",
    "            not_use_pointer+=1\n",
    "    #print(not_use_pointer)\n",
    "            #print(not_use_pointer)"
   ]
  },
  {
   "cell_type": "code",
   "execution_count": 7,
   "metadata": {},
   "outputs": [],
   "source": [
    "def judge():\n",
    "    global factorys\n",
    "    global customers\n",
    "    score = 0\n",
    "    for factory in factorys:\n",
    "        if factory.current_load != 0:\n",
    "            score+=factory.open_cost\n",
    "    for customer in customers:\n",
    "        score+=customer.distance_list[customer.assigned_factory]\n",
    "    return score\n",
    "def judge_from(factorys,customers):\n",
    "    #global factorys\n",
    "    #global customers\n",
    "    score = 0\n",
    "    for factory in factorys:\n",
    "        if factory.current_load != 0:\n",
    "            score+=factory.open_cost\n",
    "    for customer in customers:\n",
    "        score+=customer.distance_list[customer.assigned_factory]\n",
    "    return score"
   ]
  },
  {
   "cell_type": "code",
   "execution_count": 8,
   "metadata": {},
   "outputs": [],
   "source": [
    "def find_n_least_big_index(arr,n,drop_factory_number):\n",
    "    current_big = -1\n",
    "    current_index_list = []\n",
    "    for x in range(n):\n",
    "        inner_big = 1000000\n",
    "        inner_index = -1\n",
    "        for y in range(len(arr)):\n",
    "            if drop_factory_number != None:\n",
    "                if y == drop_factory_number:\n",
    "                    continue\n",
    "            if y not in current_index_list:\n",
    "                if arr[y] < inner_big:\n",
    "                    inner_big = arr[y]\n",
    "                    inner_index = y\n",
    "        current_index_list.append(inner_index)\n",
    "        if x == n-1:\n",
    "            return inner_index"
   ]
  },
  {
   "cell_type": "code",
   "execution_count": 9,
   "metadata": {},
   "outputs": [],
   "source": [
    "def gridy():\n",
    "    global customers\n",
    "    #print(customers)\n",
    "    for customer in customers:\n",
    "        for x in range(len(customer.distance_list)):\n",
    "            target_index = find_n_least_big_index(customer.distance_list,x+1,None)\n",
    "            if factorys[target_index].capacity - factorys[target_index].current_load < customer.load:\n",
    "                continue\n",
    "            else:\n",
    "                customer.assign(factorys[target_index])\n",
    "                break\n",
    "def random_init():\n",
    "    backoff()\n",
    "    global customers\n",
    "    #print(customers)\n",
    "    for customer in customers:\n",
    "        for x in range(len(customer.distance_list)):\n",
    "            target_index = random.randint(0,len(customer.distance_list)-1)\n",
    "            #target_index = find_n_least_big_index(customer.distance_list,x+1,None)\n",
    "            if factorys[target_index].capacity - factorys[target_index].current_load < customer.load:\n",
    "                continue\n",
    "            else:\n",
    "                customer.assign(factorys[target_index])\n",
    "                break\n",
    "    \n",
    "def backoff():\n",
    "    global customers\n",
    "    global factorys\n",
    "    for customer in customers:\n",
    "        customer.unassign()\n",
    "    for factory in factorys:\n",
    "        factory.clean()\n",
    "def compress_2_3():\n",
    "    backoff()\n",
    "    gridy()\n",
    "    temp_min = judge()\n",
    "    for x in range(len(factorys)-1):\n",
    "        backoff()\n",
    "        gridy()\n",
    "        empty_facory_reassign(x)\n",
    "        ## empty how many factory you want\n",
    "        #empty_facory_reassign(x+1)\n",
    "        if judge() < temp_min:\n",
    "            temp_min = judge()\n",
    "    print(temp_min)\n",
    "def compress_2for2_3():\n",
    "    backoff()\n",
    "    gridy()\n",
    "    temp_min = judge()\n",
    "    for x in range(len(factorys)-2):\n",
    "        ## empty how many factory you want\n",
    "        #empty_facory_reassign(x+1)\n",
    "        for y in range(x,len(factorys)-1):\n",
    "            backoff()\n",
    "            gridy()\n",
    "            empty_facory_reassign(x)\n",
    "            empty_facory_reassign(y)\n",
    "            if judge() < temp_min:\n",
    "                temp_min = judge()\n",
    "    print(temp_min)\n",
    "def empty_deep(empty_factory_list,start,end):\n",
    "    temp_min = 1000000000\n",
    "    if len(empty_factory_list) > 5:\n",
    "        return temp_min\n",
    "    for x in range(start,end):\n",
    "        backoff()\n",
    "        gridy()\n",
    "        for index in empty_factory_list:\n",
    "            empty_facory_reassign(index)\n",
    "        empty_facory_reassign(x)\n",
    "        temp_arr = empty_factory_list.copy()\n",
    "        if judge() < temp_min:\n",
    "            temp_min = judge()\n",
    "        temp_arr.append(x)\n",
    "        temp_value = empty_deep(temp_arr,x+1,end)\n",
    "        if temp_value < temp_min:\n",
    "            temp_min = temp_value\n",
    "    return temp_min"
   ]
  },
  {
   "cell_type": "code",
   "execution_count": 10,
   "metadata": {},
   "outputs": [],
   "source": [
    "def empty_facory_reassign(number):\n",
    "    target_factory = factorys[number]\n",
    "    target_factory.current_load = 0\n",
    "    free_customers = target_factory.assigned_customers\n",
    "    target_factory.assigned_customers = []\n",
    "    for free_customer_number in free_customers:\n",
    "        for x in range(len(customers[free_customer_number].distance_list)):\n",
    "            target_index = find_n_least_big_index(customers[free_customer_number].distance_list,x+1,number)\n",
    "            if factorys[target_index].capacity - factorys[target_index].current_load < customers[free_customer_number].load:\n",
    "                continue\n",
    "            else:\n",
    "                customers[free_customer_number].assign(factorys[target_index])\n",
    "                break"
   ]
  },
  {
   "cell_type": "code",
   "execution_count": null,
   "metadata": {},
   "outputs": [],
   "source": []
  },
  {
   "cell_type": "code",
   "execution_count": null,
   "metadata": {},
   "outputs": [],
   "source": []
  },
  {
   "cell_type": "code",
   "execution_count": null,
   "metadata": {},
   "outputs": [],
   "source": []
  },
  {
   "cell_type": "code",
   "execution_count": 11,
   "metadata": {},
   "outputs": [],
   "source": [
    "def possibility(energy):\n",
    "    if energy <= 0:\n",
    "        return 0\n",
    "    global T\n",
    "    #print(1 - 1/(1+math.e**(-energy/(T))))\n",
    "    return 1 - 1/(1+math.e**(-energy/(T)))"
   ]
  },
  {
   "cell_type": "code",
   "execution_count": 12,
   "metadata": {},
   "outputs": [],
   "source": [
    "def sa():\n",
    "    global T\n",
    "    while T>10**(-8):\n",
    "        T = T*0.995\n",
    "        for x in range(10):\n",
    "            print(judge())\n",
    "            change_customer_index = random.randint(0,len(customers)-1)\n",
    "            #temp = judge()\n",
    "            while True:\n",
    "                ## move lots of customers at the same time\n",
    "                #move_n_customers()\n",
    "                change_to_factory_index = random.randint(0,len(factorys)-1)\n",
    "                if factorys[change_to_factory_index].capacity - factorys[change_to_factory_index].current_load >= customers[change_customer_index].load:\n",
    "                    #compare which one better\n",
    "                    energy = 0\n",
    "                    if factorys[customers[change_customer_index].assigned_factory].current_load == customers[change_customer_index].load:\n",
    "                        energy -= customers[change_customer_index].load\n",
    "                    energy += customers[change_customer_index].distance_list[change_to_factory_index]\n",
    "                    energy -= customers[change_customer_index].distance_list[customers[change_customer_index].assigned_factory]\n",
    "                    if energy<0 or possibility(energy) > random.random():\n",
    "                        customers[change_customer_index].unassign()\n",
    "                        customers[change_customer_index].assign(factorys[change_to_factory_index])\n",
    "                    break"
   ]
  },
  {
   "cell_type": "code",
   "execution_count": 13,
   "metadata": {},
   "outputs": [],
   "source": [
    "def sa2():\n",
    "    global T\n",
    "    global customers\n",
    "    global factorys\n",
    "    while T > 10**(-8):\n",
    "        T *= 0.995\n",
    "        for x in range(10):\n",
    "            random_drop_number = random.randint(1,len(customers)//2)\n",
    "            #print(len(customers))\n",
    "            temp_arr = [x for x in range(len(customers))]\n",
    "            random.shuffle(temp_arr)\n",
    "            #temp_arr = random.shuffle(temp_arr)\n",
    "            #print(temp_arr)\n",
    "            temp_customers = copy.deepcopy(customers)\n",
    "            temp_factorys = copy.deepcopy(factorys)\n",
    "            temp_arr = temp_arr[:random_drop_number]\n",
    "            #print(random_drop_number)\n",
    "            for number in temp_arr:\n",
    "                #temp_customers[number].unassign()\n",
    "                #can not use them for temp object\n",
    "                temp_factory = temp_customers[number].assigned_factory\n",
    "                temp_customers[number].assigned_factory = None\n",
    "                temp_factorys[temp_factory].current_load -= temp_customers[number].load\n",
    "                temp_factorys[temp_factory].assigned_customers.pop(temp_factorys[temp_factory]\\\n",
    "                                                                   .assigned_customers.index(number))\n",
    "            #print(temp_arr)\n",
    "            random_start = random.randint(0,len(temp_arr)-1)\n",
    "            for x in range(random_start,len(temp_arr)):\n",
    "                x = temp_arr[x]\n",
    "                customer = temp_customers[x]\n",
    "                #for x in range(len(customer.distance_list)):\n",
    "                while True:\n",
    "                    #randomly\n",
    "                    target_index = random.randint(0,len(customer.distance_list)-1)\n",
    "                    #target_index = find_n_least_big_index(customer.distance_list,x+1,None)\n",
    "                    if factorys[target_index].capacity - factorys[target_index].current_load < customer.load:\n",
    "                        continue\n",
    "                    else:\n",
    "                        customer.assigned_factory = target_index\n",
    "                        temp_factorys[target_index].current_load += customer.load\n",
    "                        temp_factorys[target_index].assigned_customers.append(customer.number)\n",
    "                        #customer.assign(factorys[target_index])\n",
    "                    break\n",
    "            for x in range(0,random_start):\n",
    "                x = temp_arr[x]\n",
    "                customer = temp_customers[x]\n",
    "                #for x in range(len(customer.distance_list)):\n",
    "                while True:\n",
    "                    #randomly\n",
    "                    target_index = random.randint(0,len(customer.distance_list)-1)\n",
    "                    #target_index = find_n_least_big_index(customer.distance_list,x+1,None)\n",
    "                    if factorys[target_index].capacity - factorys[target_index].current_load < customer.load:\n",
    "                        continue\n",
    "                    else:\n",
    "                        customer.assigned_factory = target_index\n",
    "                        temp_factorys[target_index].current_load += customer.load\n",
    "                        temp_factorys[target_index].assigned_customers.append(customer.number)\n",
    "                        #customer.assign(factorys[target_index])\n",
    "                    break\n",
    "            #print(possibility((judge()-judge_from(temp_factorys,temp_customers))))\n",
    "            if judge_from(temp_factorys,temp_customers) < judge() or possibility(-(judge()-judge_from(temp_factorys,temp_customers))) > random.random():\n",
    "                customers = temp_customers\n",
    "                factorys = temp_factorys\n",
    "                print(judge())\n",
    "    return judge()"
   ]
  },
  {
   "cell_type": "code",
   "execution_count": 14,
   "metadata": {},
   "outputs": [],
   "source": [
    "start(1)"
   ]
  },
  {
   "cell_type": "code",
   "execution_count": 15,
   "metadata": {},
   "outputs": [
    {
     "name": "stdout",
     "output_type": "stream",
     "text": [
      "10355\n"
     ]
    }
   ],
   "source": [
    "gridy()\n",
    "print(judge())"
   ]
  },
  {
   "cell_type": "code",
   "execution_count": 16,
   "metadata": {},
   "outputs": [
    {
     "data": {
      "text/plain": [
       "25366"
      ]
     },
     "execution_count": 16,
     "metadata": {},
     "output_type": "execute_result"
    }
   ],
   "source": [
    "#compress_2_3()\n",
    "random_init()\n",
    "judge()"
   ]
  },
  {
   "cell_type": "code",
   "execution_count": 18,
   "metadata": {},
   "outputs": [
    {
     "data": {
      "text/plain": [
       "10355"
      ]
     },
     "execution_count": 18,
     "metadata": {},
     "output_type": "execute_result"
    }
   ],
   "source": [
    "sa2()"
   ]
  },
  {
   "cell_type": "code",
   "execution_count": 19,
   "metadata": {},
   "outputs": [
    {
     "data": {
      "text/plain": [
       "10355"
      ]
     },
     "execution_count": 19,
     "metadata": {},
     "output_type": "execute_result"
    }
   ],
   "source": [
    "judge()"
   ]
  },
  {
   "cell_type": "code",
   "execution_count": null,
   "metadata": {},
   "outputs": [
    {
     "name": "stdout",
     "output_type": "stream",
     "text": [
      "___1___\n",
      "10355\n",
      "+++\n",
      "10070\n",
      "---\n",
      "10208\n",
      "___2___\n",
      "9041\n",
      "+++\n",
      "8908\n",
      "---\n",
      "8917\n",
      "___3___\n",
      "11041\n",
      "+++\n",
      "10508\n",
      "---\n",
      "10717\n",
      "___4___\n",
      "13041\n",
      "+++\n",
      "12108\n",
      "---\n",
      "12517\n",
      "___5___\n",
      "10827\n",
      "+++\n"
     ]
    }
   ],
   "source": [
    "for x in range(1,10):\n",
    "    print(\"___\"+str(x)+\"___\")\n",
    "    start(x)\n",
    "    gridy()\n",
    "    print(judge())\n",
    "    print(\"+++\")\n",
    "    print(empty_deep([],0,len(factorys)))\n",
    "    print(\"---\")\n",
    "    compress_2_3()"
   ]
  },
  {
   "cell_type": "code",
   "execution_count": null,
   "metadata": {},
   "outputs": [],
   "source": [
    "start(20)\n",
    "gridy()\n",
    "judge()"
   ]
  },
  {
   "cell_type": "code",
   "execution_count": null,
   "metadata": {},
   "outputs": [],
   "source": [
    "arr = [1,2,3]\n",
    "print(arr.index(4,lambda x))"
   ]
  },
  {
   "cell_type": "code",
   "execution_count": null,
   "metadata": {},
   "outputs": [],
   "source": [
    "a2 = [1,2,3]\n",
    "a3 = a2.copy()"
   ]
  },
  {
   "cell_type": "code",
   "execution_count": null,
   "metadata": {},
   "outputs": [],
   "source": [
    "a3.append(4)"
   ]
  },
  {
   "cell_type": "code",
   "execution_count": null,
   "metadata": {},
   "outputs": [],
   "source": [
    "a = [Customer(1,[],0)]"
   ]
  },
  {
   "cell_type": "code",
   "execution_count": null,
   "metadata": {},
   "outputs": [],
   "source": [
    "b = copy.copy(a)\n",
    "b[0].number = 1"
   ]
  },
  {
   "cell_type": "code",
   "execution_count": null,
   "metadata": {},
   "outputs": [],
   "source": [
    "a[0].number"
   ]
  },
  {
   "cell_type": "code",
   "execution_count": null,
   "metadata": {},
   "outputs": [],
   "source": [
    "a = [1,2,3]\n",
    "random.shuffle(a)\n"
   ]
  },
  {
   "cell_type": "code",
   "execution_count": null,
   "metadata": {},
   "outputs": [],
   "source": [
    "a"
   ]
  },
  {
   "cell_type": "code",
   "execution_count": 4,
   "metadata": {},
   "outputs": [
    {
     "name": "stdout",
     "output_type": "stream",
     "text": [
      "0.3784218901670494\n",
      "0.1969677475663869\n",
      "0.18185931102388997\n",
      "0.31282344388672867\n",
      "0.38820167955446694\n",
      "0.39704998460307184\n",
      "0.7360730422767893\n",
      "0.26230057923846295\n",
      "0.23595370510133784\n",
      "0.8137823979435758\n",
      "0.4770614550649961\n",
      "0.5047771004207079\n",
      "0.3502238599829267\n",
      "0.9806320214766455\n",
      "0.8551282914835961\n",
      "0.3792253839989388\n",
      "0.8366368091763995\n",
      "0.894305626383851\n",
      "0.6239303669475598\n",
      "0.7018330682752453\n",
      "0.9098365299607282\n",
      "0.4800322538128743\n",
      "0.2976590712653231\n",
      "0.7019178243819361\n",
      "0.32676306174097935\n",
      "0.48773270419469705\n",
      "0.09447487139763189\n",
      "0.8925279550814051\n",
      "0.38371937595944416\n",
      "0.870362679371342\n",
      "0.6725026996246503\n",
      "0.10939764761969506\n",
      "0.5368079519768992\n",
      "0.11754940778946132\n",
      "0.07221322402861718\n",
      "0.6612593361760417\n",
      "0.724032850992958\n",
      "0.45433976830216716\n",
      "0.6766502243527848\n",
      "0.9788397422138283\n",
      "0.06939547622612074\n",
      "0.22514684663115847\n",
      "0.6633452853227203\n",
      "0.5631043297969023\n",
      "0.2836814431962401\n",
      "0.2641565900293473\n",
      "0.5154549193343873\n",
      "0.812902681194003\n",
      "0.3971069662068957\n",
      "0.17049321004109086\n",
      "0.47795760894929706\n",
      "0.7191251151210691\n",
      "0.7429514360280106\n",
      "0.5067927604807627\n",
      "0.3133942172909746\n",
      "0.8517662024619259\n",
      "0.3555822554897259\n",
      "0.15137635446164155\n",
      "0.6451019086267988\n",
      "0.15877375504596336\n",
      "0.32167082712846173\n",
      "0.10426585066674954\n",
      "0.6631866583920858\n",
      "0.09548208814154302\n",
      "0.23597397876995008\n",
      "0.34621636738107975\n",
      "0.8997777948684743\n",
      "0.5957225497442082\n",
      "0.8878255207791116\n",
      "0.6816440418761348\n",
      "0.3379332675875971\n",
      "0.9253102584111429\n",
      "0.2574233804627105\n",
      "0.14155224359612184\n",
      "0.2714137619985024\n",
      "0.9330681674776464\n",
      "0.16960333973569186\n",
      "0.32052768303953294\n",
      "0.5658703401287554\n",
      "0.8469900915113587\n",
      "0.39516834092003983\n",
      "0.9877094311980967\n",
      "0.3797654909246022\n",
      "0.16028365014331292\n",
      "0.47621493474739707\n",
      "0.06186343834472019\n",
      "0.7437483604381637\n",
      "0.9082749230087342\n",
      "0.35545166750653134\n",
      "0.28850828302702713\n",
      "0.7077078641169209\n",
      "0.30098371311226624\n",
      "0.25955625262889737\n",
      "0.16142802051137517\n",
      "0.6107563987905037\n",
      "0.4269161218478914\n",
      "0.20493570468744127\n",
      "0.5182600837112789\n",
      "0.8267889776246412\n",
      "0.38149010278064444\n"
     ]
    }
   ],
   "source": [
    "for x in range(100):\n",
    "    print(random.random())"
   ]
  },
  {
   "cell_type": "code",
   "execution_count": null,
   "metadata": {},
   "outputs": [],
   "source": []
  }
 ],
 "metadata": {
  "kernelspec": {
   "display_name": "Python 3",
   "language": "python",
   "name": "python3"
  },
  "language_info": {
   "codemirror_mode": {
    "name": "ipython",
    "version": 3
   },
   "file_extension": ".py",
   "mimetype": "text/x-python",
   "name": "python",
   "nbconvert_exporter": "python",
   "pygments_lexer": "ipython3",
   "version": "3.7.0"
  }
 },
 "nbformat": 4,
 "nbformat_minor": 2
}
